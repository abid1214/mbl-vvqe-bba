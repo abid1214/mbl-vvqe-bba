{
 "cells": [
  {
   "cell_type": "code",
   "execution_count": 1,
   "metadata": {},
   "outputs": [
    {
     "data": {
      "text/html": [
       "<pre style=\"word-wrap: normal;white-space: pre;background: #fff0;line-height: 1.1;font-family: &quot;Courier New&quot;,Courier,monospace\">                                                                    \n",
       "    psi_0: ──────X──────────────────X──────────────────X────────────\n",
       "                 │                  │                  │            \n",
       "    psi_1: ──────┼──X───────────────┼──X───────────────┼──X─────────\n",
       "                 │  │               │  │               │  │         \n",
       "    phi_0: ──────X──┼───────────────X──┼───────────────X──┼─────────\n",
       "                 │  │               │  │               │  │         \n",
       "    phi_1: ──────┼──X───────────────┼──X───────────────┼──X─────────\n",
       "           ┌───┐ │  │ ┌───┐┌─┐┌───┐ │  │ ┌───┐┌─┐┌───┐ │  │ ┌───┐┌─┐\n",
       "ancilla_0: ┤ H ├─■──■─┤ H ├┤M├┤ H ├─■──■─┤ H ├┤M├┤ H ├─■──■─┤ H ├┤M├\n",
       "           └───┘      └───┘└╥┘└───┘      └───┘└╥┘└───┘      └───┘└╥┘\n",
       "      m_0: ═════════════════╩══════════════════╬══════════════════╬═\n",
       "                                               ║                  ║ \n",
       "      m_1: ════════════════════════════════════╩══════════════════╬═\n",
       "                                                                  ║ \n",
       "      m_2: ═══════════════════════════════════════════════════════╩═\n",
       "                                                                    </pre>"
      ],
      "text/plain": [
       "                                                                    \n",
       "    psi_0: ──────X──────────────────X──────────────────X────────────\n",
       "                 │                  │                  │            \n",
       "    psi_1: ──────┼──X───────────────┼──X───────────────┼──X─────────\n",
       "                 │  │               │  │               │  │         \n",
       "    phi_0: ──────X──┼───────────────X──┼───────────────X──┼─────────\n",
       "                 │  │               │  │               │  │         \n",
       "    phi_1: ──────┼──X───────────────┼──X───────────────┼──X─────────\n",
       "           ┌───┐ │  │ ┌───┐┌─┐┌───┐ │  │ ┌───┐┌─┐┌───┐ │  │ ┌───┐┌─┐\n",
       "ancilla_0: ┤ H ├─■──■─┤ H ├┤M├┤ H ├─■──■─┤ H ├┤M├┤ H ├─■──■─┤ H ├┤M├\n",
       "           └───┘      └───┘└╥┘└───┘      └───┘└╥┘└───┘      └───┘└╥┘\n",
       "      m_0: ═════════════════╩══════════════════╬══════════════════╬═\n",
       "                                               ║                  ║ \n",
       "      m_1: ════════════════════════════════════╩══════════════════╬═\n",
       "                                                                  ║ \n",
       "      m_2: ═══════════════════════════════════════════════════════╩═\n",
       "                                                                    "
      ]
     },
     "execution_count": 1,
     "metadata": {},
     "output_type": "execute_result"
    }
   ],
   "source": [
    "from swap import *\n",
    "qc = swap_test_circuit(2, 3)\n",
    "qc.draw()"
   ]
  },
  {
   "cell_type": "code",
   "execution_count": null,
   "metadata": {},
   "outputs": [],
   "source": []
  }
 ],
 "metadata": {
  "kernelspec": {
   "display_name": "Python 3",
   "language": "python",
   "name": "python3"
  },
  "language_info": {
   "codemirror_mode": {
    "name": "ipython",
    "version": 3
   },
   "file_extension": ".py",
   "mimetype": "text/x-python",
   "name": "python",
   "nbconvert_exporter": "python",
   "pygments_lexer": "ipython3",
   "version": "3.8.2"
  }
 },
 "nbformat": 4,
 "nbformat_minor": 4
}
