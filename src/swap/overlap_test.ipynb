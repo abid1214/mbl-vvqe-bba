{
 "cells": [
  {
   "cell_type": "markdown",
   "metadata": {},
   "source": [
    "#  Testing Overlaps\n",
    "This notebook will test our implementations of the overlap Tr$(\\rho\\sigma)$"
   ]
  },
  {
   "cell_type": "code",
   "execution_count": 4,
   "metadata": {},
   "outputs": [],
   "source": [
    "from overlap import *\n",
    "import numpy as np"
   ]
  },
  {
   "cell_type": "markdown",
   "metadata": {},
   "source": [
    "Let's begin with the swap test, which we'll use to test other algorithms against."
   ]
  },
  {
   "cell_type": "code",
   "execution_count": 3,
   "metadata": {},
   "outputs": [
    {
     "data": {
      "text/html": [
       "<pre style=\"word-wrap: normal;white-space: pre;background: #fff0;line-height: 1.1;font-family: &quot;Courier New&quot;,Courier,monospace\">                              \n",
       "    psi_0: ──────X────────────\n",
       "                 │            \n",
       "    psi_1: ──────┼──X─────────\n",
       "                 │  │         \n",
       "    phi_0: ──────X──┼─────────\n",
       "                 │  │         \n",
       "    phi_1: ──────┼──X─────────\n",
       "           ┌───┐ │  │ ┌───┐┌─┐\n",
       "ancilla_0: ┤ H ├─■──■─┤ H ├┤M├\n",
       "           └───┘      └───┘└╥┘\n",
       "      m_0: ═════════════════╩═\n",
       "                              </pre>"
      ],
      "text/plain": [
       "                              \n",
       "    psi_0: ──────X────────────\n",
       "                 │            \n",
       "    psi_1: ──────┼──X─────────\n",
       "                 │  │         \n",
       "    phi_0: ──────X──┼─────────\n",
       "                 │  │         \n",
       "    phi_1: ──────┼──X─────────\n",
       "           ┌───┐ │  │ ┌───┐┌─┐\n",
       "ancilla_0: ┤ H ├─■──■─┤ H ├┤M├\n",
       "           └───┘      └───┘└╥┘\n",
       "      m_0: ═════════════════╩═\n",
       "                              "
      ]
     },
     "execution_count": 3,
     "metadata": {},
     "output_type": "execute_result"
    }
   ],
   "source": [
    "#constructing the swap circuit\n",
    "qc_swap = swap_test_QC(2)\n",
    "qc_swap.draw()"
   ]
  },
  {
   "cell_type": "markdown",
   "metadata": {},
   "source": [
    "Now let's look at the overlap of two wavefunctions:\n",
    "$$\\begin{align*}\n",
    "|\\psi> &= \\frac{1}{\\sqrt{2}}\\left( |0> +             |1>\\right) \\\\\n",
    "|\\phi> &= \\frac{1}{\\sqrt{2}}\\left( |0> + e^{i\\alpha} |1>\\right)\n",
    "\\end{align*}\n",
    "$$"
   ]
  },
  {
   "cell_type": "code",
   "execution_count": 16,
   "metadata": {},
   "outputs": [
    {
     "data": {
      "text/html": [
       "<pre style=\"word-wrap: normal;white-space: pre;background: #fff0;line-height: 1.1;font-family: &quot;Courier New&quot;,Courier,monospace\">     ┌───┐            \n",
       "q_0: ┤ H ├────────────\n",
       "     ├───┤┌──────────┐\n",
       "q_1: ┤ H ├┤ RZ(pi/4) ├\n",
       "     └───┘└──────────┘</pre>"
      ],
      "text/plain": [
       "     ┌───┐            \n",
       "q_0: ┤ H ├────────────\n",
       "     ├───┤┌──────────┐\n",
       "q_1: ┤ H ├┤ RZ(pi/4) ├\n",
       "     └───┘└──────────┘"
      ]
     },
     "execution_count": 16,
     "metadata": {},
     "output_type": "execute_result"
    }
   ],
   "source": [
    "alpha = np.pi/4\n",
    "psi, phi = QuantumCircuit(1), QuantumCircuit(1)\n",
    "psi.h(0), phi.h(0)\n",
    "phi.rz(alpha,0)\n",
    "\n",
    "psi_phi = QuantumCircuit(2)\n",
    "psi_phi.compose(psi, [0], inplace=True)\n",
    "psi_phi.compose(phi,[1], inplace=True)\n",
    "\n",
    "psi_phi.draw()\n"
   ]
  },
  {
   "cell_type": "code",
   "execution_count": null,
   "metadata": {},
   "outputs": [],
   "source": []
  },
  {
   "cell_type": "markdown",
   "metadata": {},
   "source": [
    "Now let's run a simulation"
   ]
  },
  {
   "cell_type": "code",
   "execution_count": 2,
   "metadata": {},
   "outputs": [
    {
     "data": {
      "text/html": [
       "<pre style=\"word-wrap: normal;white-space: pre;background: #fff0;line-height: 1.1;font-family: &quot;Courier New&quot;,Courier,monospace\">            ┌───┐     ┌─┐         \n",
       "psi_0: ──■──┤ H ├─────┤M├─────────\n",
       "         │  └───┘┌───┐└╥┘   ┌─┐   \n",
       "psi_1: ──┼────■──┤ H ├─╫────┤M├───\n",
       "       ┌─┴─┐  │  ├───┤ ║ ┌─┐└╥┘   \n",
       "phi_0: ┤ X ├──┼──┤ H ├─╫─┤M├─╫────\n",
       "       └───┘┌─┴─┐├───┤ ║ └╥┘ ║ ┌─┐\n",
       "phi_1: ─────┤ X ├┤ H ├─╫──╫──╫─┤M├\n",
       "            └───┘└───┘ ║  ║  ║ └╥┘\n",
       "  m_0: ════════════════╩══╬══╬══╬═\n",
       "                          ║  ║  ║ \n",
       "  m_1: ═══════════════════╩══╬══╬═\n",
       "                             ║  ║ \n",
       "  m_2: ══════════════════════╩══╬═\n",
       "                                ║ \n",
       "  m_3: ═════════════════════════╩═\n",
       "                                  </pre>"
      ],
      "text/plain": [
       "            ┌───┐     ┌─┐         \n",
       "psi_0: ──■──┤ H ├─────┤M├─────────\n",
       "         │  └───┘┌───┐└╥┘   ┌─┐   \n",
       "psi_1: ──┼────■──┤ H ├─╫────┤M├───\n",
       "       ┌─┴─┐  │  ├───┤ ║ ┌─┐└╥┘   \n",
       "phi_0: ┤ X ├──┼──┤ H ├─╫─┤M├─╫────\n",
       "       └───┘┌─┴─┐├───┤ ║ └╥┘ ║ ┌─┐\n",
       "phi_1: ─────┤ X ├┤ H ├─╫──╫──╫─┤M├\n",
       "            └───┘└───┘ ║  ║  ║ └╥┘\n",
       "  m_0: ════════════════╩══╬══╬══╬═\n",
       "                          ║  ║  ║ \n",
       "  m_1: ═══════════════════╩══╬══╬═\n",
       "                             ║  ║ \n",
       "  m_2: ══════════════════════╩══╬═\n",
       "                                ║ \n",
       "  m_3: ═════════════════════════╩═\n",
       "                                  "
      ]
     },
     "execution_count": 2,
     "metadata": {},
     "output_type": "execute_result"
    }
   ],
   "source": [
    "qc_abba = ABBA_QC(2)\n",
    "qc_abba.draw()"
   ]
  },
  {
   "cell_type": "code",
   "execution_count": null,
   "metadata": {},
   "outputs": [],
   "source": []
  }
 ],
 "metadata": {
  "kernelspec": {
   "display_name": "Python 3",
   "language": "python",
   "name": "python3"
  },
  "language_info": {
   "codemirror_mode": {
    "name": "ipython",
    "version": 3
   },
   "file_extension": ".py",
   "mimetype": "text/x-python",
   "name": "python",
   "nbconvert_exporter": "python",
   "pygments_lexer": "ipython3",
   "version": "3.8.2"
  }
 },
 "nbformat": 4,
 "nbformat_minor": 4
}
