{
 "cells": [
  {
   "cell_type": "markdown",
   "metadata": {},
   "source": [
    "#  Testing Overlap Algorithms\n",
    "This notebook will test our swap test and BBA implementation that computes the overlap Tr$(\\rho\\sigma)$"
   ]
  },
  {
   "cell_type": "code",
   "execution_count": 1,
   "metadata": {},
   "outputs": [],
   "source": [
    "from sys import path\n",
    "path.insert(0, '..')\n",
    "\n",
    "from swap import *\n",
    "from bba import *\n",
    "from utilities import *\n",
    "import numpy as np\n",
    "import matplotlib.pyplot as plt"
   ]
  },
  {
   "cell_type": "markdown",
   "metadata": {},
   "source": [
    "Consider two wavefunctions\n",
    "\n",
    "$$\\begin{align*}\n",
    "|\\psi> &= \\frac{1}{\\sqrt{2}}\\left( |0> +             |1>\\right) \\\\\n",
    "|\\phi> &= \\frac{1}{\\sqrt{2}}\\left( |0> + e^{i\\alpha} |1>\\right)\n",
    "\\end{align*}\n",
    "$$\n",
    "\n",
    "To perform the overlap via the swap test, we'll first have to construct the quantum circuits representing these wavefunctions:"
   ]
  },
  {
   "cell_type": "code",
   "execution_count": 2,
   "metadata": {},
   "outputs": [],
   "source": [
    "alpha = np.pi/4\n",
    "\n",
    "#quantum circuit\n",
    "psi = psi_qc(0)\n",
    "phi = psi_qc(alpha)\n",
    "\n",
    "#classical representation\n",
    "psi_c = psi_classical(0)\n",
    "phi_c = psi_classical(alpha)"
   ]
  },
  {
   "cell_type": "markdown",
   "metadata": {},
   "source": [
    "The circuit for $|\\phi>$ is drawn below:"
   ]
  },
  {
   "cell_type": "code",
   "execution_count": 3,
   "metadata": {},
   "outputs": [
    {
     "data": {
      "text/html": [
       "<pre style=\"word-wrap: normal;white-space: pre;background: #fff0;line-height: 1.1;font-family: &quot;Courier New&quot;,Courier,monospace\">     ┌───┐┌──────────┐\n",
       "q_0: ┤ H ├┤ RZ(pi/4) ├\n",
       "     └───┘└──────────┘</pre>"
      ],
      "text/plain": [
       "     ┌───┐┌──────────┐\n",
       "q_0: ┤ H ├┤ RZ(pi/4) ├\n",
       "     └───┘└──────────┘"
      ]
     },
     "execution_count": 3,
     "metadata": {},
     "output_type": "execute_result"
    }
   ],
   "source": [
    "phi.draw()"
   ]
  },
  {
   "cell_type": "markdown",
   "metadata": {},
   "source": [
    "Now, let's look at the swap test quantum circuit with these wavefuntions:"
   ]
  },
  {
   "cell_type": "code",
   "execution_count": 4,
   "metadata": {},
   "outputs": [
    {
     "data": {
      "text/html": [
       "<pre style=\"word-wrap: normal;white-space: pre;background: #fff0;line-height: 1.1;font-family: &quot;Courier New&quot;,Courier,monospace\">       ┌───┐               ┌───┐┌─┐\n",
       "  a_0: ┤ H ├─────────────■─┤ H ├┤M├\n",
       "       ├───┤             │ └───┘└╥┘\n",
       "psi_0: ┤ H ├─────────────X───────╫─\n",
       "       ├───┤┌──────────┐ │       ║ \n",
       "phi_0: ┤ H ├┤ RZ(pi/4) ├─X───────╫─\n",
       "       └───┘└──────────┘         ║ \n",
       "  m_0: ══════════════════════════╩═\n",
       "                                   </pre>"
      ],
      "text/plain": [
       "       ┌───┐               ┌───┐┌─┐\n",
       "  a_0: ┤ H ├─────────────■─┤ H ├┤M├\n",
       "       ├───┤             │ └───┘└╥┘\n",
       "psi_0: ┤ H ├─────────────X───────╫─\n",
       "       ├───┤┌──────────┐ │       ║ \n",
       "phi_0: ┤ H ├┤ RZ(pi/4) ├─X───────╫─\n",
       "       └───┘└──────────┘         ║ \n",
       "  m_0: ══════════════════════════╩═\n",
       "                                   "
      ]
     },
     "execution_count": 4,
     "metadata": {},
     "output_type": "execute_result"
    }
   ],
   "source": [
    "#constructing the swap circuit\n",
    "qc_swap = swap_test_QC(psi, phi)\n",
    "qc_swap.draw()"
   ]
  },
  {
   "cell_type": "markdown",
   "metadata": {},
   "source": [
    "and below is the BBA quantum circuit with these same wavefunctions:"
   ]
  },
  {
   "cell_type": "code",
   "execution_count": 5,
   "metadata": {},
   "outputs": [
    {
     "data": {
      "text/html": [
       "<pre style=\"word-wrap: normal;white-space: pre;background: #fff0;line-height: 1.1;font-family: &quot;Courier New&quot;,Courier,monospace\">       ┌───┐                 ┌───┐┌─┐\n",
       "psi_0: ┤ H ├──────────────■──┤ H ├┤M├\n",
       "       ├───┤┌──────────┐┌─┴─┐└┬─┬┘└╥┘\n",
       "phi_0: ┤ H ├┤ RZ(pi/4) ├┤ X ├─┤M├──╫─\n",
       "       └───┘└──────────┘└───┘ └╥┘  ║ \n",
       "  m_0: ════════════════════════╬═══╩═\n",
       "                               ║     \n",
       "  m_1: ════════════════════════╩═════\n",
       "                                     </pre>"
      ],
      "text/plain": [
       "       ┌───┐                 ┌───┐┌─┐\n",
       "psi_0: ┤ H ├──────────────■──┤ H ├┤M├\n",
       "       ├───┤┌──────────┐┌─┴─┐└┬─┬┘└╥┘\n",
       "phi_0: ┤ H ├┤ RZ(pi/4) ├┤ X ├─┤M├──╫─\n",
       "       └───┘└──────────┘└───┘ └╥┘  ║ \n",
       "  m_0: ════════════════════════╬═══╩═\n",
       "                               ║     \n",
       "  m_1: ════════════════════════╩═════\n",
       "                                     "
      ]
     },
     "execution_count": 5,
     "metadata": {},
     "output_type": "execute_result"
    }
   ],
   "source": [
    "#constructing the bba circuit\n",
    "qc_swap = bba_QC(psi, phi)\n",
    "qc_swap.draw()"
   ]
  },
  {
   "cell_type": "markdown",
   "metadata": {},
   "source": [
    "Now we run the simulation and obtain the overlap. Then we compare to the exact results:"
   ]
  },
  {
   "cell_type": "code",
   "execution_count": 6,
   "metadata": {},
   "outputs": [],
   "source": [
    "overlap_sw = swap_overlap(psi, phi, shots=10000)\n",
    "overlap_bb =  bba_overlap(psi, phi, shots=10000)\n",
    "overlap_cl = classical_overlap(psi_c, phi_c)"
   ]
  },
  {
   "cell_type": "code",
   "execution_count": 7,
   "metadata": {},
   "outputs": [
    {
     "name": "stdout",
     "output_type": "stream",
     "text": [
      "swap test overlap: 0.859\n",
      "      bba overlap: 0.8558000000000001\n",
      "    exact overlap: 0.8535533905932735\n",
      "\n",
      "  swap test error: 0.005446609406726477\n",
      "        bba error: 0.0022466094067266074\n"
     ]
    }
   ],
   "source": [
    "print(\"swap test overlap: {}\".format(overlap_sw))\n",
    "print(\"      bba overlap: {}\".format(overlap_bb))\n",
    "print(\"    exact overlap: {}\".format(overlap_cl))\n",
    "print(\"\")\n",
    "print(\"  swap test error: {}\".format(np.abs(overlap_sw-overlap_cl)))\n",
    "print(\"        bba error: {}\".format(np.abs(overlap_bb-overlap_cl)))"
   ]
  },
  {
   "cell_type": "markdown",
   "metadata": {},
   "source": [
    "Now let's look at how these overlaps compare as we tune $\\alpha$"
   ]
  },
  {
   "cell_type": "code",
   "execution_count": 8,
   "metadata": {},
   "outputs": [
    {
     "name": "stdout",
     "output_type": "stream",
     "text": [
      "0\n"
     ]
    },
    {
     "name": "stderr",
     "output_type": "stream",
     "text": [
      "ibmqfactory.load_account:WARNING:2020-06-28 19:32:01,301: Credentials are already in use. The existing account in the session will be replaced.\n"
     ]
    },
    {
     "name": "stdout",
     "output_type": "stream",
     "text": [
      "1\n"
     ]
    },
    {
     "name": "stderr",
     "output_type": "stream",
     "text": [
      "ibmqfactory.load_account:WARNING:2020-06-28 19:32:05,291: Credentials are already in use. The existing account in the session will be replaced.\n",
      "ibmqfactory.load_account:WARNING:2020-06-28 19:32:08,981: Credentials are already in use. The existing account in the session will be replaced.\n"
     ]
    },
    {
     "name": "stdout",
     "output_type": "stream",
     "text": [
      "2\n"
     ]
    },
    {
     "name": "stderr",
     "output_type": "stream",
     "text": [
      "ibmqfactory.load_account:WARNING:2020-06-28 19:32:13,077: Credentials are already in use. The existing account in the session will be replaced.\n",
      "ibmqfactory.load_account:WARNING:2020-06-28 19:32:16,765: Credentials are already in use. The existing account in the session will be replaced.\n"
     ]
    },
    {
     "name": "stdout",
     "output_type": "stream",
     "text": [
      "3\n"
     ]
    },
    {
     "name": "stderr",
     "output_type": "stream",
     "text": [
      "ibmqfactory.load_account:WARNING:2020-06-28 19:32:20,450: Credentials are already in use. The existing account in the session will be replaced.\n",
      "ibmqfactory.load_account:WARNING:2020-06-28 19:32:24,854: Credentials are already in use. The existing account in the session will be replaced.\n"
     ]
    },
    {
     "name": "stdout",
     "output_type": "stream",
     "text": [
      "4\n"
     ]
    },
    {
     "name": "stderr",
     "output_type": "stream",
     "text": [
      "ibmqfactory.load_account:WARNING:2020-06-28 19:32:28,551: Credentials are already in use. The existing account in the session will be replaced.\n",
      "ibmqfactory.load_account:WARNING:2020-06-28 19:32:32,836: Credentials are already in use. The existing account in the session will be replaced.\n"
     ]
    },
    {
     "name": "stdout",
     "output_type": "stream",
     "text": [
      "5\n"
     ]
    },
    {
     "name": "stderr",
     "output_type": "stream",
     "text": [
      "ibmqfactory.load_account:WARNING:2020-06-28 19:32:36,424: Credentials are already in use. The existing account in the session will be replaced.\n",
      "ibmqfactory.load_account:WARNING:2020-06-28 19:32:39,771: Credentials are already in use. The existing account in the session will be replaced.\n"
     ]
    },
    {
     "name": "stdout",
     "output_type": "stream",
     "text": [
      "6\n"
     ]
    },
    {
     "name": "stderr",
     "output_type": "stream",
     "text": [
      "ibmqfactory.load_account:WARNING:2020-06-28 19:32:43,691: Credentials are already in use. The existing account in the session will be replaced.\n",
      "ibmqfactory.load_account:WARNING:2020-06-28 19:32:47,586: Credentials are already in use. The existing account in the session will be replaced.\n"
     ]
    },
    {
     "name": "stdout",
     "output_type": "stream",
     "text": [
      "7\n"
     ]
    },
    {
     "name": "stderr",
     "output_type": "stream",
     "text": [
      "ibmqfactory.load_account:WARNING:2020-06-28 19:32:51,783: Credentials are already in use. The existing account in the session will be replaced.\n",
      "ibmqfactory.load_account:WARNING:2020-06-28 19:32:55,367: Credentials are already in use. The existing account in the session will be replaced.\n"
     ]
    },
    {
     "name": "stdout",
     "output_type": "stream",
     "text": [
      "8\n"
     ]
    },
    {
     "name": "stderr",
     "output_type": "stream",
     "text": [
      "ibmqfactory.load_account:WARNING:2020-06-28 19:32:59,051: Credentials are already in use. The existing account in the session will be replaced.\n",
      "ibmqfactory.load_account:WARNING:2020-06-28 19:33:02,537: Credentials are already in use. The existing account in the session will be replaced.\n"
     ]
    },
    {
     "name": "stdout",
     "output_type": "stream",
     "text": [
      "9\n"
     ]
    },
    {
     "name": "stderr",
     "output_type": "stream",
     "text": [
      "ibmqfactory.load_account:WARNING:2020-06-28 19:33:06,428: Credentials are already in use. The existing account in the session will be replaced.\n",
      "ibmqfactory.load_account:WARNING:2020-06-28 19:33:10,114: Credentials are already in use. The existing account in the session will be replaced.\n"
     ]
    },
    {
     "name": "stdout",
     "output_type": "stream",
     "text": [
      "10\n"
     ]
    },
    {
     "name": "stderr",
     "output_type": "stream",
     "text": [
      "ibmqfactory.load_account:WARNING:2020-06-28 19:33:13,544: Credentials are already in use. The existing account in the session will be replaced.\n",
      "ibmqfactory.load_account:WARNING:2020-06-28 19:33:17,384: Credentials are already in use. The existing account in the session will be replaced.\n"
     ]
    },
    {
     "name": "stdout",
     "output_type": "stream",
     "text": [
      "11\n"
     ]
    },
    {
     "name": "stderr",
     "output_type": "stream",
     "text": [
      "ibmqfactory.load_account:WARNING:2020-06-28 19:33:20,969: Credentials are already in use. The existing account in the session will be replaced.\n",
      "ibmqfactory.load_account:WARNING:2020-06-28 19:33:24,964: Credentials are already in use. The existing account in the session will be replaced.\n"
     ]
    },
    {
     "name": "stdout",
     "output_type": "stream",
     "text": [
      "12\n"
     ]
    },
    {
     "name": "stderr",
     "output_type": "stream",
     "text": [
      "ibmqfactory.load_account:WARNING:2020-06-28 19:33:28,850: Credentials are already in use. The existing account in the session will be replaced.\n",
      "ibmqfactory.load_account:WARNING:2020-06-28 19:33:32,843: Credentials are already in use. The existing account in the session will be replaced.\n"
     ]
    },
    {
     "name": "stdout",
     "output_type": "stream",
     "text": [
      "13\n"
     ]
    },
    {
     "name": "stderr",
     "output_type": "stream",
     "text": [
      "ibmqfactory.load_account:WARNING:2020-06-28 19:33:36,685: Credentials are already in use. The existing account in the session will be replaced.\n",
      "ibmqfactory.load_account:WARNING:2020-06-28 19:33:40,323: Credentials are already in use. The existing account in the session will be replaced.\n"
     ]
    },
    {
     "name": "stdout",
     "output_type": "stream",
     "text": [
      "14\n"
     ]
    },
    {
     "name": "stderr",
     "output_type": "stream",
     "text": [
      "ibmqfactory.load_account:WARNING:2020-06-28 19:33:43,804: Credentials are already in use. The existing account in the session will be replaced.\n",
      "ibmqfactory.load_account:WARNING:2020-06-28 19:33:47,798: Credentials are already in use. The existing account in the session will be replaced.\n",
      "ibmqfactory.load_account:WARNING:2020-06-28 19:33:51,202: Credentials are already in use. The existing account in the session will be replaced.\n"
     ]
    },
    {
     "name": "stdout",
     "output_type": "stream",
     "text": [
      "15\n"
     ]
    },
    {
     "name": "stderr",
     "output_type": "stream",
     "text": [
      "ibmqfactory.load_account:WARNING:2020-06-28 19:33:55,167: Credentials are already in use. The existing account in the session will be replaced.\n"
     ]
    },
    {
     "name": "stdout",
     "output_type": "stream",
     "text": [
      "16\n"
     ]
    },
    {
     "name": "stderr",
     "output_type": "stream",
     "text": [
      "ibmqfactory.load_account:WARNING:2020-06-28 19:33:59,267: Credentials are already in use. The existing account in the session will be replaced.\n",
      "ibmqfactory.load_account:WARNING:2020-06-28 19:34:02,642: Credentials are already in use. The existing account in the session will be replaced.\n"
     ]
    },
    {
     "name": "stdout",
     "output_type": "stream",
     "text": [
      "17\n"
     ]
    },
    {
     "name": "stderr",
     "output_type": "stream",
     "text": [
      "ibmqfactory.load_account:WARNING:2020-06-28 19:34:06,414: Credentials are already in use. The existing account in the session will be replaced.\n",
      "ibmqfactory.load_account:WARNING:2020-06-28 19:34:09,917: Credentials are already in use. The existing account in the session will be replaced.\n"
     ]
    },
    {
     "name": "stdout",
     "output_type": "stream",
     "text": [
      "18\n"
     ]
    },
    {
     "name": "stderr",
     "output_type": "stream",
     "text": [
      "ibmqfactory.load_account:WARNING:2020-06-28 19:34:13,500: Credentials are already in use. The existing account in the session will be replaced.\n",
      "ibmqfactory.load_account:WARNING:2020-06-28 19:34:17,495: Credentials are already in use. The existing account in the session will be replaced.\n"
     ]
    },
    {
     "name": "stdout",
     "output_type": "stream",
     "text": [
      "19\n"
     ]
    },
    {
     "name": "stderr",
     "output_type": "stream",
     "text": [
      "ibmqfactory.load_account:WARNING:2020-06-28 19:34:21,182: Credentials are already in use. The existing account in the session will be replaced.\n",
      "ibmqfactory.load_account:WARNING:2020-06-28 19:34:25,274: Credentials are already in use. The existing account in the session will be replaced.\n"
     ]
    }
   ],
   "source": [
    "N = 20\n",
    "alpha_list = np.linspace(0, 2*np.pi, N)\n",
    "o_sw_list = np.zeros(N)\n",
    "o_bb_list = np.zeros(N)\n",
    "o_cl_list = np.zeros(N)\n",
    "swap_err_list = np.zeros(N)\n",
    "bba_err_list = np.zeros(N)\n",
    "\n",
    "\n",
    "psi = psi_qc(0)\n",
    "psi_c = psi_classical(0)\n",
    "\n",
    "for i, alpha in enumerate(alpha_list):\n",
    "    print(i)\n",
    "    phi = psi_qc(alpha)\n",
    "    phi_c = psi_classical(alpha)\n",
    "    o_sw_list[i] = swap_overlap(psi, phi, shots=1000, noise=True)\n",
    "    o_bb_list[i] =  bba_overlap(psi, phi, shots=1000, noise=True)\n",
    "    o_cl_list[i] = classical_overlap(psi_c, phi_c)\n",
    "    swap_err_list[i] = np.abs(o_sw_list[i] - o_cl_list[i])   \n",
    "    bba_err_list[i] = np.abs(o_bb_list[i] - o_cl_list[i])   \n"
   ]
  },
  {
   "cell_type": "code",
   "execution_count": 9,
   "metadata": {},
   "outputs": [
    {
     "data": {
      "application/javascript": [
       "/* Put everything inside the global mpl namespace */\n",
       "window.mpl = {};\n",
       "\n",
       "\n",
       "mpl.get_websocket_type = function() {\n",
       "    if (typeof(WebSocket) !== 'undefined') {\n",
       "        return WebSocket;\n",
       "    } else if (typeof(MozWebSocket) !== 'undefined') {\n",
       "        return MozWebSocket;\n",
       "    } else {\n",
       "        alert('Your browser does not have WebSocket support. ' +\n",
       "              'Please try Chrome, Safari or Firefox ≥ 6. ' +\n",
       "              'Firefox 4 and 5 are also supported but you ' +\n",
       "              'have to enable WebSockets in about:config.');\n",
       "    };\n",
       "}\n",
       "\n",
       "mpl.figure = function(figure_id, websocket, ondownload, parent_element) {\n",
       "    this.id = figure_id;\n",
       "\n",
       "    this.ws = websocket;\n",
       "\n",
       "    this.supports_binary = (this.ws.binaryType != undefined);\n",
       "\n",
       "    if (!this.supports_binary) {\n",
       "        var warnings = document.getElementById(\"mpl-warnings\");\n",
       "        if (warnings) {\n",
       "            warnings.style.display = 'block';\n",
       "            warnings.textContent = (\n",
       "                \"This browser does not support binary websocket messages. \" +\n",
       "                    \"Performance may be slow.\");\n",
       "        }\n",
       "    }\n",
       "\n",
       "    this.imageObj = new Image();\n",
       "\n",
       "    this.context = undefined;\n",
       "    this.message = undefined;\n",
       "    this.canvas = undefined;\n",
       "    this.rubberband_canvas = undefined;\n",
       "    this.rubberband_context = undefined;\n",
       "    this.format_dropdown = undefined;\n",
       "\n",
       "    this.image_mode = 'full';\n",
       "\n",
       "    this.root = $('<div/>');\n",
       "    this._root_extra_style(this.root)\n",
       "    this.root.attr('style', 'display: inline-block');\n",
       "\n",
       "    $(parent_element).append(this.root);\n",
       "\n",
       "    this._init_header(this);\n",
       "    this._init_canvas(this);\n",
       "    this._init_toolbar(this);\n",
       "\n",
       "    var fig = this;\n",
       "\n",
       "    this.waiting = false;\n",
       "\n",
       "    this.ws.onopen =  function () {\n",
       "            fig.send_message(\"supports_binary\", {value: fig.supports_binary});\n",
       "            fig.send_message(\"send_image_mode\", {});\n",
       "            if (mpl.ratio != 1) {\n",
       "                fig.send_message(\"set_dpi_ratio\", {'dpi_ratio': mpl.ratio});\n",
       "            }\n",
       "            fig.send_message(\"refresh\", {});\n",
       "        }\n",
       "\n",
       "    this.imageObj.onload = function() {\n",
       "            if (fig.image_mode == 'full') {\n",
       "                // Full images could contain transparency (where diff images\n",
       "                // almost always do), so we need to clear the canvas so that\n",
       "                // there is no ghosting.\n",
       "                fig.context.clearRect(0, 0, fig.canvas.width, fig.canvas.height);\n",
       "            }\n",
       "            fig.context.drawImage(fig.imageObj, 0, 0);\n",
       "        };\n",
       "\n",
       "    this.imageObj.onunload = function() {\n",
       "        fig.ws.close();\n",
       "    }\n",
       "\n",
       "    this.ws.onmessage = this._make_on_message_function(this);\n",
       "\n",
       "    this.ondownload = ondownload;\n",
       "}\n",
       "\n",
       "mpl.figure.prototype._init_header = function() {\n",
       "    var titlebar = $(\n",
       "        '<div class=\"ui-dialog-titlebar ui-widget-header ui-corner-all ' +\n",
       "        'ui-helper-clearfix\"/>');\n",
       "    var titletext = $(\n",
       "        '<div class=\"ui-dialog-title\" style=\"width: 100%; ' +\n",
       "        'text-align: center; padding: 3px;\"/>');\n",
       "    titlebar.append(titletext)\n",
       "    this.root.append(titlebar);\n",
       "    this.header = titletext[0];\n",
       "}\n",
       "\n",
       "\n",
       "\n",
       "mpl.figure.prototype._canvas_extra_style = function(canvas_div) {\n",
       "\n",
       "}\n",
       "\n",
       "\n",
       "mpl.figure.prototype._root_extra_style = function(canvas_div) {\n",
       "\n",
       "}\n",
       "\n",
       "mpl.figure.prototype._init_canvas = function() {\n",
       "    var fig = this;\n",
       "\n",
       "    var canvas_div = $('<div/>');\n",
       "\n",
       "    canvas_div.attr('style', 'position: relative; clear: both; outline: 0');\n",
       "\n",
       "    function canvas_keyboard_event(event) {\n",
       "        return fig.key_event(event, event['data']);\n",
       "    }\n",
       "\n",
       "    canvas_div.keydown('key_press', canvas_keyboard_event);\n",
       "    canvas_div.keyup('key_release', canvas_keyboard_event);\n",
       "    this.canvas_div = canvas_div\n",
       "    this._canvas_extra_style(canvas_div)\n",
       "    this.root.append(canvas_div);\n",
       "\n",
       "    var canvas = $('<canvas/>');\n",
       "    canvas.addClass('mpl-canvas');\n",
       "    canvas.attr('style', \"left: 0; top: 0; z-index: 0; outline: 0\")\n",
       "\n",
       "    this.canvas = canvas[0];\n",
       "    this.context = canvas[0].getContext(\"2d\");\n",
       "\n",
       "    var backingStore = this.context.backingStorePixelRatio ||\n",
       "\tthis.context.webkitBackingStorePixelRatio ||\n",
       "\tthis.context.mozBackingStorePixelRatio ||\n",
       "\tthis.context.msBackingStorePixelRatio ||\n",
       "\tthis.context.oBackingStorePixelRatio ||\n",
       "\tthis.context.backingStorePixelRatio || 1;\n",
       "\n",
       "    mpl.ratio = (window.devicePixelRatio || 1) / backingStore;\n",
       "\n",
       "    var rubberband = $('<canvas/>');\n",
       "    rubberband.attr('style', \"position: absolute; left: 0; top: 0; z-index: 1;\")\n",
       "\n",
       "    var pass_mouse_events = true;\n",
       "\n",
       "    canvas_div.resizable({\n",
       "        start: function(event, ui) {\n",
       "            pass_mouse_events = false;\n",
       "        },\n",
       "        resize: function(event, ui) {\n",
       "            fig.request_resize(ui.size.width, ui.size.height);\n",
       "        },\n",
       "        stop: function(event, ui) {\n",
       "            pass_mouse_events = true;\n",
       "            fig.request_resize(ui.size.width, ui.size.height);\n",
       "        },\n",
       "    });\n",
       "\n",
       "    function mouse_event_fn(event) {\n",
       "        if (pass_mouse_events)\n",
       "            return fig.mouse_event(event, event['data']);\n",
       "    }\n",
       "\n",
       "    rubberband.mousedown('button_press', mouse_event_fn);\n",
       "    rubberband.mouseup('button_release', mouse_event_fn);\n",
       "    // Throttle sequential mouse events to 1 every 20ms.\n",
       "    rubberband.mousemove('motion_notify', mouse_event_fn);\n",
       "\n",
       "    rubberband.mouseenter('figure_enter', mouse_event_fn);\n",
       "    rubberband.mouseleave('figure_leave', mouse_event_fn);\n",
       "\n",
       "    canvas_div.on(\"wheel\", function (event) {\n",
       "        event = event.originalEvent;\n",
       "        event['data'] = 'scroll'\n",
       "        if (event.deltaY < 0) {\n",
       "            event.step = 1;\n",
       "        } else {\n",
       "            event.step = -1;\n",
       "        }\n",
       "        mouse_event_fn(event);\n",
       "    });\n",
       "\n",
       "    canvas_div.append(canvas);\n",
       "    canvas_div.append(rubberband);\n",
       "\n",
       "    this.rubberband = rubberband;\n",
       "    this.rubberband_canvas = rubberband[0];\n",
       "    this.rubberband_context = rubberband[0].getContext(\"2d\");\n",
       "    this.rubberband_context.strokeStyle = \"#000000\";\n",
       "\n",
       "    this._resize_canvas = function(width, height) {\n",
       "        // Keep the size of the canvas, canvas container, and rubber band\n",
       "        // canvas in synch.\n",
       "        canvas_div.css('width', width)\n",
       "        canvas_div.css('height', height)\n",
       "\n",
       "        canvas.attr('width', width * mpl.ratio);\n",
       "        canvas.attr('height', height * mpl.ratio);\n",
       "        canvas.attr('style', 'width: ' + width + 'px; height: ' + height + 'px;');\n",
       "\n",
       "        rubberband.attr('width', width);\n",
       "        rubberband.attr('height', height);\n",
       "    }\n",
       "\n",
       "    // Set the figure to an initial 600x600px, this will subsequently be updated\n",
       "    // upon first draw.\n",
       "    this._resize_canvas(600, 600);\n",
       "\n",
       "    // Disable right mouse context menu.\n",
       "    $(this.rubberband_canvas).bind(\"contextmenu\",function(e){\n",
       "        return false;\n",
       "    });\n",
       "\n",
       "    function set_focus () {\n",
       "        canvas.focus();\n",
       "        canvas_div.focus();\n",
       "    }\n",
       "\n",
       "    window.setTimeout(set_focus, 100);\n",
       "}\n",
       "\n",
       "mpl.figure.prototype._init_toolbar = function() {\n",
       "    var fig = this;\n",
       "\n",
       "    var nav_element = $('<div/>');\n",
       "    nav_element.attr('style', 'width: 100%');\n",
       "    this.root.append(nav_element);\n",
       "\n",
       "    // Define a callback function for later on.\n",
       "    function toolbar_event(event) {\n",
       "        return fig.toolbar_button_onclick(event['data']);\n",
       "    }\n",
       "    function toolbar_mouse_event(event) {\n",
       "        return fig.toolbar_button_onmouseover(event['data']);\n",
       "    }\n",
       "\n",
       "    for(var toolbar_ind in mpl.toolbar_items) {\n",
       "        var name = mpl.toolbar_items[toolbar_ind][0];\n",
       "        var tooltip = mpl.toolbar_items[toolbar_ind][1];\n",
       "        var image = mpl.toolbar_items[toolbar_ind][2];\n",
       "        var method_name = mpl.toolbar_items[toolbar_ind][3];\n",
       "\n",
       "        if (!name) {\n",
       "            // put a spacer in here.\n",
       "            continue;\n",
       "        }\n",
       "        var button = $('<button/>');\n",
       "        button.addClass('ui-button ui-widget ui-state-default ui-corner-all ' +\n",
       "                        'ui-button-icon-only');\n",
       "        button.attr('role', 'button');\n",
       "        button.attr('aria-disabled', 'false');\n",
       "        button.click(method_name, toolbar_event);\n",
       "        button.mouseover(tooltip, toolbar_mouse_event);\n",
       "\n",
       "        var icon_img = $('<span/>');\n",
       "        icon_img.addClass('ui-button-icon-primary ui-icon');\n",
       "        icon_img.addClass(image);\n",
       "        icon_img.addClass('ui-corner-all');\n",
       "\n",
       "        var tooltip_span = $('<span/>');\n",
       "        tooltip_span.addClass('ui-button-text');\n",
       "        tooltip_span.html(tooltip);\n",
       "\n",
       "        button.append(icon_img);\n",
       "        button.append(tooltip_span);\n",
       "\n",
       "        nav_element.append(button);\n",
       "    }\n",
       "\n",
       "    var fmt_picker_span = $('<span/>');\n",
       "\n",
       "    var fmt_picker = $('<select/>');\n",
       "    fmt_picker.addClass('mpl-toolbar-option ui-widget ui-widget-content');\n",
       "    fmt_picker_span.append(fmt_picker);\n",
       "    nav_element.append(fmt_picker_span);\n",
       "    this.format_dropdown = fmt_picker[0];\n",
       "\n",
       "    for (var ind in mpl.extensions) {\n",
       "        var fmt = mpl.extensions[ind];\n",
       "        var option = $(\n",
       "            '<option/>', {selected: fmt === mpl.default_extension}).html(fmt);\n",
       "        fmt_picker.append(option);\n",
       "    }\n",
       "\n",
       "    // Add hover states to the ui-buttons\n",
       "    $( \".ui-button\" ).hover(\n",
       "        function() { $(this).addClass(\"ui-state-hover\");},\n",
       "        function() { $(this).removeClass(\"ui-state-hover\");}\n",
       "    );\n",
       "\n",
       "    var status_bar = $('<span class=\"mpl-message\"/>');\n",
       "    nav_element.append(status_bar);\n",
       "    this.message = status_bar[0];\n",
       "}\n",
       "\n",
       "mpl.figure.prototype.request_resize = function(x_pixels, y_pixels) {\n",
       "    // Request matplotlib to resize the figure. Matplotlib will then trigger a resize in the client,\n",
       "    // which will in turn request a refresh of the image.\n",
       "    this.send_message('resize', {'width': x_pixels, 'height': y_pixels});\n",
       "}\n",
       "\n",
       "mpl.figure.prototype.send_message = function(type, properties) {\n",
       "    properties['type'] = type;\n",
       "    properties['figure_id'] = this.id;\n",
       "    this.ws.send(JSON.stringify(properties));\n",
       "}\n",
       "\n",
       "mpl.figure.prototype.send_draw_message = function() {\n",
       "    if (!this.waiting) {\n",
       "        this.waiting = true;\n",
       "        this.ws.send(JSON.stringify({type: \"draw\", figure_id: this.id}));\n",
       "    }\n",
       "}\n",
       "\n",
       "\n",
       "mpl.figure.prototype.handle_save = function(fig, msg) {\n",
       "    var format_dropdown = fig.format_dropdown;\n",
       "    var format = format_dropdown.options[format_dropdown.selectedIndex].value;\n",
       "    fig.ondownload(fig, format);\n",
       "}\n",
       "\n",
       "\n",
       "mpl.figure.prototype.handle_resize = function(fig, msg) {\n",
       "    var size = msg['size'];\n",
       "    if (size[0] != fig.canvas.width || size[1] != fig.canvas.height) {\n",
       "        fig._resize_canvas(size[0], size[1]);\n",
       "        fig.send_message(\"refresh\", {});\n",
       "    };\n",
       "}\n",
       "\n",
       "mpl.figure.prototype.handle_rubberband = function(fig, msg) {\n",
       "    var x0 = msg['x0'] / mpl.ratio;\n",
       "    var y0 = (fig.canvas.height - msg['y0']) / mpl.ratio;\n",
       "    var x1 = msg['x1'] / mpl.ratio;\n",
       "    var y1 = (fig.canvas.height - msg['y1']) / mpl.ratio;\n",
       "    x0 = Math.floor(x0) + 0.5;\n",
       "    y0 = Math.floor(y0) + 0.5;\n",
       "    x1 = Math.floor(x1) + 0.5;\n",
       "    y1 = Math.floor(y1) + 0.5;\n",
       "    var min_x = Math.min(x0, x1);\n",
       "    var min_y = Math.min(y0, y1);\n",
       "    var width = Math.abs(x1 - x0);\n",
       "    var height = Math.abs(y1 - y0);\n",
       "\n",
       "    fig.rubberband_context.clearRect(\n",
       "        0, 0, fig.canvas.width / mpl.ratio, fig.canvas.height / mpl.ratio);\n",
       "\n",
       "    fig.rubberband_context.strokeRect(min_x, min_y, width, height);\n",
       "}\n",
       "\n",
       "mpl.figure.prototype.handle_figure_label = function(fig, msg) {\n",
       "    // Updates the figure title.\n",
       "    fig.header.textContent = msg['label'];\n",
       "}\n",
       "\n",
       "mpl.figure.prototype.handle_cursor = function(fig, msg) {\n",
       "    var cursor = msg['cursor'];\n",
       "    switch(cursor)\n",
       "    {\n",
       "    case 0:\n",
       "        cursor = 'pointer';\n",
       "        break;\n",
       "    case 1:\n",
       "        cursor = 'default';\n",
       "        break;\n",
       "    case 2:\n",
       "        cursor = 'crosshair';\n",
       "        break;\n",
       "    case 3:\n",
       "        cursor = 'move';\n",
       "        break;\n",
       "    }\n",
       "    fig.rubberband_canvas.style.cursor = cursor;\n",
       "}\n",
       "\n",
       "mpl.figure.prototype.handle_message = function(fig, msg) {\n",
       "    fig.message.textContent = msg['message'];\n",
       "}\n",
       "\n",
       "mpl.figure.prototype.handle_draw = function(fig, msg) {\n",
       "    // Request the server to send over a new figure.\n",
       "    fig.send_draw_message();\n",
       "}\n",
       "\n",
       "mpl.figure.prototype.handle_image_mode = function(fig, msg) {\n",
       "    fig.image_mode = msg['mode'];\n",
       "}\n",
       "\n",
       "mpl.figure.prototype.updated_canvas_event = function() {\n",
       "    // Called whenever the canvas gets updated.\n",
       "    this.send_message(\"ack\", {});\n",
       "}\n",
       "\n",
       "// A function to construct a web socket function for onmessage handling.\n",
       "// Called in the figure constructor.\n",
       "mpl.figure.prototype._make_on_message_function = function(fig) {\n",
       "    return function socket_on_message(evt) {\n",
       "        if (evt.data instanceof Blob) {\n",
       "            /* FIXME: We get \"Resource interpreted as Image but\n",
       "             * transferred with MIME type text/plain:\" errors on\n",
       "             * Chrome.  But how to set the MIME type?  It doesn't seem\n",
       "             * to be part of the websocket stream */\n",
       "            evt.data.type = \"image/png\";\n",
       "\n",
       "            /* Free the memory for the previous frames */\n",
       "            if (fig.imageObj.src) {\n",
       "                (window.URL || window.webkitURL).revokeObjectURL(\n",
       "                    fig.imageObj.src);\n",
       "            }\n",
       "\n",
       "            fig.imageObj.src = (window.URL || window.webkitURL).createObjectURL(\n",
       "                evt.data);\n",
       "            fig.updated_canvas_event();\n",
       "            fig.waiting = false;\n",
       "            return;\n",
       "        }\n",
       "        else if (typeof evt.data === 'string' && evt.data.slice(0, 21) == \"data:image/png;base64\") {\n",
       "            fig.imageObj.src = evt.data;\n",
       "            fig.updated_canvas_event();\n",
       "            fig.waiting = false;\n",
       "            return;\n",
       "        }\n",
       "\n",
       "        var msg = JSON.parse(evt.data);\n",
       "        var msg_type = msg['type'];\n",
       "\n",
       "        // Call the  \"handle_{type}\" callback, which takes\n",
       "        // the figure and JSON message as its only arguments.\n",
       "        try {\n",
       "            var callback = fig[\"handle_\" + msg_type];\n",
       "        } catch (e) {\n",
       "            console.log(\"No handler for the '\" + msg_type + \"' message type: \", msg);\n",
       "            return;\n",
       "        }\n",
       "\n",
       "        if (callback) {\n",
       "            try {\n",
       "                // console.log(\"Handling '\" + msg_type + \"' message: \", msg);\n",
       "                callback(fig, msg);\n",
       "            } catch (e) {\n",
       "                console.log(\"Exception inside the 'handler_\" + msg_type + \"' callback:\", e, e.stack, msg);\n",
       "            }\n",
       "        }\n",
       "    };\n",
       "}\n",
       "\n",
       "// from http://stackoverflow.com/questions/1114465/getting-mouse-location-in-canvas\n",
       "mpl.findpos = function(e) {\n",
       "    //this section is from http://www.quirksmode.org/js/events_properties.html\n",
       "    var targ;\n",
       "    if (!e)\n",
       "        e = window.event;\n",
       "    if (e.target)\n",
       "        targ = e.target;\n",
       "    else if (e.srcElement)\n",
       "        targ = e.srcElement;\n",
       "    if (targ.nodeType == 3) // defeat Safari bug\n",
       "        targ = targ.parentNode;\n",
       "\n",
       "    // jQuery normalizes the pageX and pageY\n",
       "    // pageX,Y are the mouse positions relative to the document\n",
       "    // offset() returns the position of the element relative to the document\n",
       "    var x = e.pageX - $(targ).offset().left;\n",
       "    var y = e.pageY - $(targ).offset().top;\n",
       "\n",
       "    return {\"x\": x, \"y\": y};\n",
       "};\n",
       "\n",
       "/*\n",
       " * return a copy of an object with only non-object keys\n",
       " * we need this to avoid circular references\n",
       " * http://stackoverflow.com/a/24161582/3208463\n",
       " */\n",
       "function simpleKeys (original) {\n",
       "  return Object.keys(original).reduce(function (obj, key) {\n",
       "    if (typeof original[key] !== 'object')\n",
       "        obj[key] = original[key]\n",
       "    return obj;\n",
       "  }, {});\n",
       "}\n",
       "\n",
       "mpl.figure.prototype.mouse_event = function(event, name) {\n",
       "    var canvas_pos = mpl.findpos(event)\n",
       "\n",
       "    if (name === 'button_press')\n",
       "    {\n",
       "        this.canvas.focus();\n",
       "        this.canvas_div.focus();\n",
       "    }\n",
       "\n",
       "    var x = canvas_pos.x * mpl.ratio;\n",
       "    var y = canvas_pos.y * mpl.ratio;\n",
       "\n",
       "    this.send_message(name, {x: x, y: y, button: event.button,\n",
       "                             step: event.step,\n",
       "                             guiEvent: simpleKeys(event)});\n",
       "\n",
       "    /* This prevents the web browser from automatically changing to\n",
       "     * the text insertion cursor when the button is pressed.  We want\n",
       "     * to control all of the cursor setting manually through the\n",
       "     * 'cursor' event from matplotlib */\n",
       "    event.preventDefault();\n",
       "    return false;\n",
       "}\n",
       "\n",
       "mpl.figure.prototype._key_event_extra = function(event, name) {\n",
       "    // Handle any extra behaviour associated with a key event\n",
       "}\n",
       "\n",
       "mpl.figure.prototype.key_event = function(event, name) {\n",
       "\n",
       "    // Prevent repeat events\n",
       "    if (name == 'key_press')\n",
       "    {\n",
       "        if (event.which === this._key)\n",
       "            return;\n",
       "        else\n",
       "            this._key = event.which;\n",
       "    }\n",
       "    if (name == 'key_release')\n",
       "        this._key = null;\n",
       "\n",
       "    var value = '';\n",
       "    if (event.ctrlKey && event.which != 17)\n",
       "        value += \"ctrl+\";\n",
       "    if (event.altKey && event.which != 18)\n",
       "        value += \"alt+\";\n",
       "    if (event.shiftKey && event.which != 16)\n",
       "        value += \"shift+\";\n",
       "\n",
       "    value += 'k';\n",
       "    value += event.which.toString();\n",
       "\n",
       "    this._key_event_extra(event, name);\n",
       "\n",
       "    this.send_message(name, {key: value,\n",
       "                             guiEvent: simpleKeys(event)});\n",
       "    return false;\n",
       "}\n",
       "\n",
       "mpl.figure.prototype.toolbar_button_onclick = function(name) {\n",
       "    if (name == 'download') {\n",
       "        this.handle_save(this, null);\n",
       "    } else {\n",
       "        this.send_message(\"toolbar_button\", {name: name});\n",
       "    }\n",
       "};\n",
       "\n",
       "mpl.figure.prototype.toolbar_button_onmouseover = function(tooltip) {\n",
       "    this.message.textContent = tooltip;\n",
       "};\n",
       "mpl.toolbar_items = [[\"Home\", \"Reset original view\", \"fa fa-home icon-home\", \"home\"], [\"Back\", \"Back to previous view\", \"fa fa-arrow-left icon-arrow-left\", \"back\"], [\"Forward\", \"Forward to next view\", \"fa fa-arrow-right icon-arrow-right\", \"forward\"], [\"\", \"\", \"\", \"\"], [\"Pan\", \"Pan axes with left mouse, zoom with right\", \"fa fa-arrows icon-move\", \"pan\"], [\"Zoom\", \"Zoom to rectangle\", \"fa fa-square-o icon-check-empty\", \"zoom\"], [\"\", \"\", \"\", \"\"], [\"Download\", \"Download plot\", \"fa fa-floppy-o icon-save\", \"download\"]];\n",
       "\n",
       "mpl.extensions = [\"eps\", \"jpeg\", \"pdf\", \"png\", \"ps\", \"raw\", \"svg\", \"tif\"];\n",
       "\n",
       "mpl.default_extension = \"png\";var comm_websocket_adapter = function(comm) {\n",
       "    // Create a \"websocket\"-like object which calls the given IPython comm\n",
       "    // object with the appropriate methods. Currently this is a non binary\n",
       "    // socket, so there is still some room for performance tuning.\n",
       "    var ws = {};\n",
       "\n",
       "    ws.close = function() {\n",
       "        comm.close()\n",
       "    };\n",
       "    ws.send = function(m) {\n",
       "        //console.log('sending', m);\n",
       "        comm.send(m);\n",
       "    };\n",
       "    // Register the callback with on_msg.\n",
       "    comm.on_msg(function(msg) {\n",
       "        //console.log('receiving', msg['content']['data'], msg);\n",
       "        // Pass the mpl event to the overridden (by mpl) onmessage function.\n",
       "        ws.onmessage(msg['content']['data'])\n",
       "    });\n",
       "    return ws;\n",
       "}\n",
       "\n",
       "mpl.mpl_figure_comm = function(comm, msg) {\n",
       "    // This is the function which gets called when the mpl process\n",
       "    // starts-up an IPython Comm through the \"matplotlib\" channel.\n",
       "\n",
       "    var id = msg.content.data.id;\n",
       "    // Get hold of the div created by the display call when the Comm\n",
       "    // socket was opened in Python.\n",
       "    var element = $(\"#\" + id);\n",
       "    var ws_proxy = comm_websocket_adapter(comm)\n",
       "\n",
       "    function ondownload(figure, format) {\n",
       "        window.open(figure.imageObj.src);\n",
       "    }\n",
       "\n",
       "    var fig = new mpl.figure(id, ws_proxy,\n",
       "                           ondownload,\n",
       "                           element.get(0));\n",
       "\n",
       "    // Call onopen now - mpl needs it, as it is assuming we've passed it a real\n",
       "    // web socket which is closed, not our websocket->open comm proxy.\n",
       "    ws_proxy.onopen();\n",
       "\n",
       "    fig.parent_element = element.get(0);\n",
       "    fig.cell_info = mpl.find_output_cell(\"<div id='\" + id + \"'></div>\");\n",
       "    if (!fig.cell_info) {\n",
       "        console.error(\"Failed to find cell for figure\", id, fig);\n",
       "        return;\n",
       "    }\n",
       "\n",
       "    var output_index = fig.cell_info[2]\n",
       "    var cell = fig.cell_info[0];\n",
       "\n",
       "};\n",
       "\n",
       "mpl.figure.prototype.handle_close = function(fig, msg) {\n",
       "    var width = fig.canvas.width/mpl.ratio\n",
       "    fig.root.unbind('remove')\n",
       "\n",
       "    // Update the output cell to use the data from the current canvas.\n",
       "    fig.push_to_output();\n",
       "    var dataURL = fig.canvas.toDataURL();\n",
       "    // Re-enable the keyboard manager in IPython - without this line, in FF,\n",
       "    // the notebook keyboard shortcuts fail.\n",
       "    IPython.keyboard_manager.enable()\n",
       "    $(fig.parent_element).html('<img src=\"' + dataURL + '\" width=\"' + width + '\">');\n",
       "    fig.close_ws(fig, msg);\n",
       "}\n",
       "\n",
       "mpl.figure.prototype.close_ws = function(fig, msg){\n",
       "    fig.send_message('closing', msg);\n",
       "    // fig.ws.close()\n",
       "}\n",
       "\n",
       "mpl.figure.prototype.push_to_output = function(remove_interactive) {\n",
       "    // Turn the data on the canvas into data in the output cell.\n",
       "    var width = this.canvas.width/mpl.ratio\n",
       "    var dataURL = this.canvas.toDataURL();\n",
       "    this.cell_info[1]['text/html'] = '<img src=\"' + dataURL + '\" width=\"' + width + '\">';\n",
       "}\n",
       "\n",
       "mpl.figure.prototype.updated_canvas_event = function() {\n",
       "    // Tell IPython that the notebook contents must change.\n",
       "    IPython.notebook.set_dirty(true);\n",
       "    this.send_message(\"ack\", {});\n",
       "    var fig = this;\n",
       "    // Wait a second, then push the new image to the DOM so\n",
       "    // that it is saved nicely (might be nice to debounce this).\n",
       "    setTimeout(function () { fig.push_to_output() }, 1000);\n",
       "}\n",
       "\n",
       "mpl.figure.prototype._init_toolbar = function() {\n",
       "    var fig = this;\n",
       "\n",
       "    var nav_element = $('<div/>');\n",
       "    nav_element.attr('style', 'width: 100%');\n",
       "    this.root.append(nav_element);\n",
       "\n",
       "    // Define a callback function for later on.\n",
       "    function toolbar_event(event) {\n",
       "        return fig.toolbar_button_onclick(event['data']);\n",
       "    }\n",
       "    function toolbar_mouse_event(event) {\n",
       "        return fig.toolbar_button_onmouseover(event['data']);\n",
       "    }\n",
       "\n",
       "    for(var toolbar_ind in mpl.toolbar_items){\n",
       "        var name = mpl.toolbar_items[toolbar_ind][0];\n",
       "        var tooltip = mpl.toolbar_items[toolbar_ind][1];\n",
       "        var image = mpl.toolbar_items[toolbar_ind][2];\n",
       "        var method_name = mpl.toolbar_items[toolbar_ind][3];\n",
       "\n",
       "        if (!name) { continue; };\n",
       "\n",
       "        var button = $('<button class=\"btn btn-default\" href=\"#\" title=\"' + name + '\"><i class=\"fa ' + image + ' fa-lg\"></i></button>');\n",
       "        button.click(method_name, toolbar_event);\n",
       "        button.mouseover(tooltip, toolbar_mouse_event);\n",
       "        nav_element.append(button);\n",
       "    }\n",
       "\n",
       "    // Add the status bar.\n",
       "    var status_bar = $('<span class=\"mpl-message\" style=\"text-align:right; float: right;\"/>');\n",
       "    nav_element.append(status_bar);\n",
       "    this.message = status_bar[0];\n",
       "\n",
       "    // Add the close button to the window.\n",
       "    var buttongrp = $('<div class=\"btn-group inline pull-right\"></div>');\n",
       "    var button = $('<button class=\"btn btn-mini btn-primary\" href=\"#\" title=\"Stop Interaction\"><i class=\"fa fa-power-off icon-remove icon-large\"></i></button>');\n",
       "    button.click(function (evt) { fig.handle_close(fig, {}); } );\n",
       "    button.mouseover('Stop Interaction', toolbar_mouse_event);\n",
       "    buttongrp.append(button);\n",
       "    var titlebar = this.root.find($('.ui-dialog-titlebar'));\n",
       "    titlebar.prepend(buttongrp);\n",
       "}\n",
       "\n",
       "mpl.figure.prototype._root_extra_style = function(el){\n",
       "    var fig = this\n",
       "    el.on(\"remove\", function(){\n",
       "\tfig.close_ws(fig, {});\n",
       "    });\n",
       "}\n",
       "\n",
       "mpl.figure.prototype._canvas_extra_style = function(el){\n",
       "    // this is important to make the div 'focusable\n",
       "    el.attr('tabindex', 0)\n",
       "    // reach out to IPython and tell the keyboard manager to turn it's self\n",
       "    // off when our div gets focus\n",
       "\n",
       "    // location in version 3\n",
       "    if (IPython.notebook.keyboard_manager) {\n",
       "        IPython.notebook.keyboard_manager.register_events(el);\n",
       "    }\n",
       "    else {\n",
       "        // location in version 2\n",
       "        IPython.keyboard_manager.register_events(el);\n",
       "    }\n",
       "\n",
       "}\n",
       "\n",
       "mpl.figure.prototype._key_event_extra = function(event, name) {\n",
       "    var manager = IPython.notebook.keyboard_manager;\n",
       "    if (!manager)\n",
       "        manager = IPython.keyboard_manager;\n",
       "\n",
       "    // Check for shift+enter\n",
       "    if (event.shiftKey && event.which == 13) {\n",
       "        this.canvas_div.blur();\n",
       "        // select the cell after this one\n",
       "        var index = IPython.notebook.find_cell_index(this.cell_info[0]);\n",
       "        IPython.notebook.select(index + 1);\n",
       "    }\n",
       "}\n",
       "\n",
       "mpl.figure.prototype.handle_save = function(fig, msg) {\n",
       "    fig.ondownload(fig, null);\n",
       "}\n",
       "\n",
       "\n",
       "mpl.find_output_cell = function(html_output) {\n",
       "    // Return the cell and output element which can be found *uniquely* in the notebook.\n",
       "    // Note - this is a bit hacky, but it is done because the \"notebook_saving.Notebook\"\n",
       "    // IPython event is triggered only after the cells have been serialised, which for\n",
       "    // our purposes (turning an active figure into a static one), is too late.\n",
       "    var cells = IPython.notebook.get_cells();\n",
       "    var ncells = cells.length;\n",
       "    for (var i=0; i<ncells; i++) {\n",
       "        var cell = cells[i];\n",
       "        if (cell.cell_type === 'code'){\n",
       "            for (var j=0; j<cell.output_area.outputs.length; j++) {\n",
       "                var data = cell.output_area.outputs[j];\n",
       "                if (data.data) {\n",
       "                    // IPython >= 3 moved mimebundle to data attribute of output\n",
       "                    data = data.data;\n",
       "                }\n",
       "                if (data['text/html'] == html_output) {\n",
       "                    return [cell, data, j];\n",
       "                }\n",
       "            }\n",
       "        }\n",
       "    }\n",
       "}\n",
       "\n",
       "// Register the function which deals with the matplotlib target/channel.\n",
       "// The kernel may be null if the page has been refreshed.\n",
       "if (IPython.notebook.kernel != null) {\n",
       "    IPython.notebook.kernel.comm_manager.register_target('matplotlib', mpl.mpl_figure_comm);\n",
       "}\n"
      ],
      "text/plain": [
       "<IPython.core.display.Javascript object>"
      ]
     },
     "metadata": {},
     "output_type": "display_data"
    },
    {
     "data": {
      "text/html": [
       "<img src=\"data:image/png;base64,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\" width=\"640\">"
      ],
      "text/plain": [
       "<IPython.core.display.HTML object>"
      ]
     },
     "metadata": {},
     "output_type": "display_data"
    }
   ],
   "source": [
    "%matplotlib notebook\n",
    "\n",
    "plt.subplot(211)\n",
    "plt.plot(alpha_list, o_sw_list, label=\"swap test\")\n",
    "plt.plot(alpha_list, o_bb_list, label=\"BBA\")\n",
    "plt.plot(alpha_list, o_cl_list, label=\"exact\")\n",
    "\n",
    "plt.legend(loc='best')\n",
    "plt.ylabel(\"overlap\")\n",
    "plt.subplot(212)\n",
    "plt.plot(alpha_list, swap_err_list, label=\"swap test\")\n",
    "plt.plot(alpha_list, bba_err_list, label=\"BBA\")\n",
    "plt.xlabel(r\"$\\alpha$\")\n",
    "plt.ylabel(\"error\")\n",
    "plt.legend(loc='best')\n",
    "plt.show()"
   ]
  },
  {
   "cell_type": "code",
   "execution_count": null,
   "metadata": {},
   "outputs": [],
   "source": []
  }
 ],
 "metadata": {
  "kernelspec": {
   "display_name": "Python 3",
   "language": "python",
   "name": "python3"
  },
  "language_info": {
   "codemirror_mode": {
    "name": "ipython",
    "version": 3
   },
   "file_extension": ".py",
   "mimetype": "text/x-python",
   "name": "python",
   "nbconvert_exporter": "python",
   "pygments_lexer": "ipython3",
   "version": "3.8.2"
  }
 },
 "nbformat": 4,
 "nbformat_minor": 4
}
