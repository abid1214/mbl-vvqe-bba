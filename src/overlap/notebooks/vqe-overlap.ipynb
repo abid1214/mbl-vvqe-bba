{
 "cells": [
  {
   "cell_type": "markdown",
   "metadata": {},
   "source": [
    "# Calculating Tr$\\left(\\rho^{2}\\right)$ from VQE data"
   ]
  },
  {
   "cell_type": "markdown",
   "metadata": {},
   "source": [
    "In this notebook, we will take quantum circuits built via VQE, and append them to the overlap quantum circuits. "
   ]
  },
  {
   "cell_type": "code",
   "execution_count": 115,
   "metadata": {},
   "outputs": [],
   "source": [
    "from sys import path\n",
    "path.insert(0, '..')\n",
    "path.insert(0, '../../vqe')\n",
    "\n",
    "from bba import *\n",
    "from swap import *\n",
    "from utilities import *\n",
    "import numpy as np\n",
    "import matplotlib.pyplot as plt\n",
    "import pickle\n",
    "import variational_form as vf\n",
    "from qiskit.quantum_info import partial_trace,entropy"
   ]
  },
  {
   "cell_type": "markdown",
   "metadata": {},
   "source": [
    "The pickled data files contain lists of quantum circuit configurations, with each element describing a disorder configuration. Below is a function that takes in parameters describing the system, and returns a list of quantum circuits."
   ]
  },
  {
   "cell_type": "code",
   "execution_count": 116,
   "metadata": {},
   "outputs": [],
   "source": [
    "def load_data(dir_name, W, num_qubits, entanglement, reps):\n",
    "    fname=\"{}W{}_q{}_VVQE_SLSQP_{}_rep{}.pkl\".format(dir_name, W, num_qubits, entanglement, reps)\n",
    "    with open(fname,'rb') as f:\n",
    "        vqe_list = pickle.load(f)\n",
    "        qc_list = [None]*len(vqe_list)\n",
    "        for i, vqe in enumerate(vqe_list):\n",
    "            ansatz = vf.sz_conserved_ansatz(num_qubits, entanglement=entanglement, reps=reps)\n",
    "            params = sorted(ansatz.parameters, key=lambda p: p.name) \n",
    "            params = dict(zip(params, vqe['opt_params'])) \n",
    "            qc_list[i] = ansatz.assign_parameters(params)\n",
    "    return qc_list"
   ]
  },
  {
   "cell_type": "markdown",
   "metadata": {},
   "source": [
    "Now let's load in some data for $n=6$ qubits, and $W$ ranging from 1 to 8."
   ]
  },
  {
   "cell_type": "code",
   "execution_count": 118,
   "metadata": {},
   "outputs": [
    {
     "name": "stdout",
     "output_type": "stream",
     "text": [
      "W=1\n",
      "W=1.5\n",
      "W=2\n",
      "W=2.5\n",
      "W=3\n",
      "W=3.5\n",
      "W=4\n",
      "W=4.5\n",
      "W=5\n",
      "W=6\n",
      "W=7\n",
      "W=8\n"
     ]
    }
   ],
   "source": [
    "num_qubits = 8\n",
    "entanglement='sca'\n",
    "reps=2\n",
    "dir_name =\"../../../results/vvqe/\" \n",
    "qc_dict = {}\n",
    "W_list = [1, 1.5, 2, 2.5, 3, 3.5, 4, 4.5, 5, 6, 7, 8]\n",
    "\n",
    "for W in W_list:\n",
    "    print(\"W={}\".format(W))\n",
    "    qc_dict[W] = load_data(dir_name, W, num_qubits, entanglement, reps)\n",
    "pickle.dump(qc_dict, open( \"qc_dict_q{}_VVQE_SLSQP_{}_rep{}.pkl\".format(num_qubits, entanglement, reps), \"wb\" ) )"
   ]
  },
  {
   "cell_type": "markdown",
   "metadata": {},
   "source": [
    "Now we connect this circuit to our overlap implementations and collect the second renyi entropys for all disorder and W."
   ]
  },
  {
   "cell_type": "code",
   "execution_count": 119,
   "metadata": {},
   "outputs": [],
   "source": [
    "import time\n",
    "def run_vqe_overlap(qc_dict, overlap_func, L_a, shots=1000, noise=None, verbose=False):\n",
    "    ent_dict = {}\n",
    "    for W in qc_dict.keys():\n",
    "        print(\"W={}\".format(W))\n",
    "        qc_list = qc_dict[W]\n",
    "        o_list = []\n",
    "        for i in range(len(qc_list)):\n",
    "            psi = qc_list[i]\n",
    "            s = time.time()\n",
    "            overlap = overlap_func(psi, psi, list(range(L_a)), shots=shots, backend=\"qasm_simulator\", noise=noise)\n",
    "            e = time.time()\n",
    "            if verbose:\n",
    "                print(\"i: {} time: {}\".format(i, e - s))\n",
    "            o_list.append(-np.log2(overlap))\n",
    "        ent_dict[W] = o_list\n",
    "    return ent_dict"
   ]
  },
  {
   "cell_type": "code",
   "execution_count": null,
   "metadata": {},
   "outputs": [
    {
     "name": "stdout",
     "output_type": "stream",
     "text": [
      "1\n",
      "W=1\n",
      "W=1.5\n",
      "W=2\n",
      "W=2.5\n",
      "W=3\n",
      "W=3.5\n",
      "W=4\n",
      "W=4.5\n"
     ]
    }
   ],
   "source": [
    "sw_ent_dict_list = []\n",
    "for L_a in range(1, num_qubits//2 +1):\n",
    "    print(L_a)\n",
    "    sw_ent_dict_list.append(run_vqe_overlap(qc_dict, bba_overlap, L_a, shots=10000, noise=None, verbose=False))\n",
    "pickle.dump(sw_ent_dict_list, open( \"sw_ent_dict_list_q{}_VVQE_SLSQP_{}_rep{}.pkl\".format(num_qubits, 'sca', 2), \"wb\" ) )"
   ]
  },
  {
   "cell_type": "markdown",
   "metadata": {},
   "source": [
    "Now we compare the overlaps obtained via BBA with the ones computed using the state vector from the original data."
   ]
  },
  {
   "cell_type": "code",
   "execution_count": null,
   "metadata": {},
   "outputs": [],
   "source": [
    "def get_exact_entropies(qc_dict, L_a):\n",
    "\n",
    "    backend = Aer.get_backend(\"statevector_simulator\")\n",
    "    ent_dict = {}\n",
    "    for W in qc_dict.keys():\n",
    "        print(\"W={}\".format(W))\n",
    "        qc_list = qc_dict[W]\n",
    "        o_list = []\n",
    "        for i in range(len(qc_list)):\n",
    "            job = execute(qc_list[i], backend)\n",
    "            vec = job.result().get_statevector(qc_list[i])\n",
    "            rho = partial_trace(vec,range(L_a))\n",
    "            ent = -np.log2((rho.data@rho.data).trace().real)\n",
    "            o_list.append(ent)\n",
    "        ent_dict[W] = o_list\n",
    "    return ent_dict"
   ]
  },
  {
   "cell_type": "code",
   "execution_count": null,
   "metadata": {},
   "outputs": [],
   "source": [
    "exact_ent_dict = [get_exact_entropies(qc_dict, L_a) for L_a in range(1, num_qubits//2+1)]"
   ]
  },
  {
   "cell_type": "code",
   "execution_count": null,
   "metadata": {},
   "outputs": [],
   "source": [
    "%matplotlib notebook\n",
    "\n",
    "for La_idx in range(num_qubits//2):\n",
    "    avg_o_list = [np.median(sw_ent_dict_list[La_idx][W]) for W in sw_ent_dict_list[La_idx].keys()]\n",
    "    avg_oe_list = [np.median(exact_ent_dict[La_idx][W]) for W in exact_ent_dict[La_idx].keys()]\n",
    "\n",
    "    error_list = [np.abs((a - b)/b)*100 for (a,b) in zip(avg_o_list, avg_oe_list)]\n",
    "    plt.subplot(211)\n",
    "    plt.plot(W_list, avg_o_list, 'o-', label='La = {} vqe-bba'.format(La_idx+1))\n",
    "    plt.plot(W_list, avg_oe_list, 'o-', label='La = {} statevector'.format(La_idx+1))\n",
    "\n",
    "    plt.subplot(212)\n",
    "    plt.plot(W_list, error_list, 'o-', label=\"La = {}\".format(La_idx+1))\n",
    "    \n",
    "plt.subplot(211)\n",
    "plt.ylabel(r\"$\\left<S_{2}\\right>$\")\n",
    "plt.legend(loc='best')\n",
    "plt.subplot(212)\n",
    "plt.ylabel(\"% error\")\n",
    "plt.xlabel(\"W\")\n",
    "plt.show()"
   ]
  }
 ],
 "metadata": {
  "kernelspec": {
   "display_name": "Python 3",
   "language": "python",
   "name": "python3"
  },
  "language_info": {
   "codemirror_mode": {
    "name": "ipython",
    "version": 3
   },
   "file_extension": ".py",
   "mimetype": "text/x-python",
   "name": "python",
   "nbconvert_exporter": "python",
   "pygments_lexer": "ipython3",
   "version": "3.8.2"
  }
 },
 "nbformat": 4,
 "nbformat_minor": 4
}
